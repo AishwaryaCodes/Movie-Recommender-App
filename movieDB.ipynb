{
 "cells": [
  {
   "cell_type": "code",
   "execution_count": 1,
   "id": "f40ce8dd-46bd-48aa-bdb4-21c51628fbf2",
   "metadata": {},
   "outputs": [
    {
     "ename": "ImportError",
     "evalue": "DLL load failed while importing _cext: The specified module could not be found.",
     "output_type": "error",
     "traceback": [
      "\u001b[1;31m---------------------------------------------------------------------------\u001b[0m",
      "\u001b[1;31mImportError\u001b[0m                               Traceback (most recent call last)",
      "Cell \u001b[1;32mIn[1], line 3\u001b[0m\n\u001b[0;32m      1\u001b[0m \u001b[38;5;28;01mimport\u001b[39;00m \u001b[38;5;21;01mnumpy\u001b[39;00m \u001b[38;5;28;01mas\u001b[39;00m \u001b[38;5;21;01mnp\u001b[39;00m\n\u001b[0;32m      2\u001b[0m \u001b[38;5;28;01mimport\u001b[39;00m \u001b[38;5;21;01mpandas\u001b[39;00m \u001b[38;5;28;01mas\u001b[39;00m \u001b[38;5;21;01mpd\u001b[39;00m\n\u001b[1;32m----> 3\u001b[0m \u001b[38;5;28;01mimport\u001b[39;00m \u001b[38;5;21;01mmatplotlib\u001b[39;00m\u001b[38;5;21;01m.\u001b[39;00m\u001b[38;5;21;01mpyplot\u001b[39;00m \u001b[38;5;28;01mas\u001b[39;00m \u001b[38;5;21;01mplt\u001b[39;00m\n\u001b[0;32m      4\u001b[0m \u001b[38;5;28;01mimport\u001b[39;00m \u001b[38;5;21;01mos\u001b[39;00m\n",
      "File \u001b[1;32m~\\AppData\\Local\\Programs\\Python\\Python312\\Lib\\site-packages\\matplotlib\\__init__.py:276\u001b[0m\n\u001b[0;32m    271\u001b[0m         \u001b[38;5;28;01mif\u001b[39;00m parse_version(module\u001b[38;5;241m.\u001b[39m__version__) \u001b[38;5;241m<\u001b[39m parse_version(minver):\n\u001b[0;32m    272\u001b[0m             \u001b[38;5;28;01mraise\u001b[39;00m \u001b[38;5;167;01mImportError\u001b[39;00m(\u001b[38;5;124mf\u001b[39m\u001b[38;5;124m\"\u001b[39m\u001b[38;5;124mMatplotlib requires \u001b[39m\u001b[38;5;132;01m{\u001b[39;00mmodname\u001b[38;5;132;01m}\u001b[39;00m\u001b[38;5;124m>=\u001b[39m\u001b[38;5;132;01m{\u001b[39;00mminver\u001b[38;5;132;01m}\u001b[39;00m\u001b[38;5;124m; \u001b[39m\u001b[38;5;124m\"\u001b[39m\n\u001b[0;32m    273\u001b[0m                               \u001b[38;5;124mf\u001b[39m\u001b[38;5;124m\"\u001b[39m\u001b[38;5;124myou have \u001b[39m\u001b[38;5;132;01m{\u001b[39;00mmodule\u001b[38;5;241m.\u001b[39m__version__\u001b[38;5;132;01m}\u001b[39;00m\u001b[38;5;124m\"\u001b[39m)\n\u001b[1;32m--> 276\u001b[0m \u001b[43m_check_versions\u001b[49m\u001b[43m(\u001b[49m\u001b[43m)\u001b[49m\n\u001b[0;32m    279\u001b[0m \u001b[38;5;66;03m# The decorator ensures this always returns the same handler (and it is only\u001b[39;00m\n\u001b[0;32m    280\u001b[0m \u001b[38;5;66;03m# attached once).\u001b[39;00m\n\u001b[0;32m    281\u001b[0m \u001b[38;5;129m@functools\u001b[39m\u001b[38;5;241m.\u001b[39mcache\n\u001b[0;32m    282\u001b[0m \u001b[38;5;28;01mdef\u001b[39;00m \u001b[38;5;21m_ensure_handler\u001b[39m():\n",
      "File \u001b[1;32m~\\AppData\\Local\\Programs\\Python\\Python312\\Lib\\site-packages\\matplotlib\\__init__.py:270\u001b[0m, in \u001b[0;36m_check_versions\u001b[1;34m()\u001b[0m\n\u001b[0;32m    261\u001b[0m \u001b[38;5;28;01mfrom\u001b[39;00m \u001b[38;5;21;01m.\u001b[39;00m \u001b[38;5;28;01mimport\u001b[39;00m ft2font  \u001b[38;5;66;03m# noqa: F401\u001b[39;00m\n\u001b[0;32m    263\u001b[0m \u001b[38;5;28;01mfor\u001b[39;00m modname, minver \u001b[38;5;129;01min\u001b[39;00m [\n\u001b[0;32m    264\u001b[0m         (\u001b[38;5;124m\"\u001b[39m\u001b[38;5;124mcycler\u001b[39m\u001b[38;5;124m\"\u001b[39m, \u001b[38;5;124m\"\u001b[39m\u001b[38;5;124m0.10\u001b[39m\u001b[38;5;124m\"\u001b[39m),\n\u001b[0;32m    265\u001b[0m         (\u001b[38;5;124m\"\u001b[39m\u001b[38;5;124mdateutil\u001b[39m\u001b[38;5;124m\"\u001b[39m, \u001b[38;5;124m\"\u001b[39m\u001b[38;5;124m2.7\u001b[39m\u001b[38;5;124m\"\u001b[39m),\n\u001b[1;32m   (...)\u001b[0m\n\u001b[0;32m    268\u001b[0m         (\u001b[38;5;124m\"\u001b[39m\u001b[38;5;124mpyparsing\u001b[39m\u001b[38;5;124m\"\u001b[39m, \u001b[38;5;124m\"\u001b[39m\u001b[38;5;124m2.3.1\u001b[39m\u001b[38;5;124m\"\u001b[39m),\n\u001b[0;32m    269\u001b[0m ]:\n\u001b[1;32m--> 270\u001b[0m     module \u001b[38;5;241m=\u001b[39m \u001b[43mimportlib\u001b[49m\u001b[38;5;241;43m.\u001b[39;49m\u001b[43mimport_module\u001b[49m\u001b[43m(\u001b[49m\u001b[43mmodname\u001b[49m\u001b[43m)\u001b[49m\n\u001b[0;32m    271\u001b[0m     \u001b[38;5;28;01mif\u001b[39;00m parse_version(module\u001b[38;5;241m.\u001b[39m__version__) \u001b[38;5;241m<\u001b[39m parse_version(minver):\n\u001b[0;32m    272\u001b[0m         \u001b[38;5;28;01mraise\u001b[39;00m \u001b[38;5;167;01mImportError\u001b[39;00m(\u001b[38;5;124mf\u001b[39m\u001b[38;5;124m\"\u001b[39m\u001b[38;5;124mMatplotlib requires \u001b[39m\u001b[38;5;132;01m{\u001b[39;00mmodname\u001b[38;5;132;01m}\u001b[39;00m\u001b[38;5;124m>=\u001b[39m\u001b[38;5;132;01m{\u001b[39;00mminver\u001b[38;5;132;01m}\u001b[39;00m\u001b[38;5;124m; \u001b[39m\u001b[38;5;124m\"\u001b[39m\n\u001b[0;32m    273\u001b[0m                           \u001b[38;5;124mf\u001b[39m\u001b[38;5;124m\"\u001b[39m\u001b[38;5;124myou have \u001b[39m\u001b[38;5;132;01m{\u001b[39;00mmodule\u001b[38;5;241m.\u001b[39m__version__\u001b[38;5;132;01m}\u001b[39;00m\u001b[38;5;124m\"\u001b[39m)\n",
      "File \u001b[1;32m~\\AppData\\Local\\Programs\\Python\\Python312\\Lib\\importlib\\__init__.py:90\u001b[0m, in \u001b[0;36mimport_module\u001b[1;34m(name, package)\u001b[0m\n\u001b[0;32m     88\u001b[0m             \u001b[38;5;28;01mbreak\u001b[39;00m\n\u001b[0;32m     89\u001b[0m         level \u001b[38;5;241m+\u001b[39m\u001b[38;5;241m=\u001b[39m \u001b[38;5;241m1\u001b[39m\n\u001b[1;32m---> 90\u001b[0m \u001b[38;5;28;01mreturn\u001b[39;00m \u001b[43m_bootstrap\u001b[49m\u001b[38;5;241;43m.\u001b[39;49m\u001b[43m_gcd_import\u001b[49m\u001b[43m(\u001b[49m\u001b[43mname\u001b[49m\u001b[43m[\u001b[49m\u001b[43mlevel\u001b[49m\u001b[43m:\u001b[49m\u001b[43m]\u001b[49m\u001b[43m,\u001b[49m\u001b[43m \u001b[49m\u001b[43mpackage\u001b[49m\u001b[43m,\u001b[49m\u001b[43m \u001b[49m\u001b[43mlevel\u001b[49m\u001b[43m)\u001b[49m\n",
      "File \u001b[1;32m~\\AppData\\Local\\Programs\\Python\\Python312\\Lib\\site-packages\\kiwisolver\\__init__.py:8\u001b[0m\n\u001b[0;32m      1\u001b[0m \u001b[38;5;66;03m# --------------------------------------------------------------------------------------\u001b[39;00m\n\u001b[0;32m      2\u001b[0m \u001b[38;5;66;03m# Copyright (c) 2013-2022, Nucleic Development Team.\u001b[39;00m\n\u001b[0;32m      3\u001b[0m \u001b[38;5;66;03m#\u001b[39;00m\n\u001b[1;32m   (...)\u001b[0m\n\u001b[0;32m      6\u001b[0m \u001b[38;5;66;03m# The full license is in the file LICENSE, distributed with this software.\u001b[39;00m\n\u001b[0;32m      7\u001b[0m \u001b[38;5;66;03m# --------------------------------------------------------------------------------------\u001b[39;00m\n\u001b[1;32m----> 8\u001b[0m \u001b[38;5;28;01mfrom\u001b[39;00m \u001b[38;5;21;01m.\u001b[39;00m\u001b[38;5;21;01m_cext\u001b[39;00m \u001b[38;5;28;01mimport\u001b[39;00m (\n\u001b[0;32m      9\u001b[0m     Constraint,\n\u001b[0;32m     10\u001b[0m     Expression,\n\u001b[0;32m     11\u001b[0m     Solver,\n\u001b[0;32m     12\u001b[0m     Term,\n\u001b[0;32m     13\u001b[0m     Variable,\n\u001b[0;32m     14\u001b[0m     __kiwi_version__,\n\u001b[0;32m     15\u001b[0m     __version__,\n\u001b[0;32m     16\u001b[0m     strength,\n\u001b[0;32m     17\u001b[0m )\n\u001b[0;32m     18\u001b[0m \u001b[38;5;28;01mfrom\u001b[39;00m \u001b[38;5;21;01m.\u001b[39;00m\u001b[38;5;21;01mexceptions\u001b[39;00m \u001b[38;5;28;01mimport\u001b[39;00m (\n\u001b[0;32m     19\u001b[0m     BadRequiredStrength,\n\u001b[0;32m     20\u001b[0m     DuplicateConstraint,\n\u001b[1;32m   (...)\u001b[0m\n\u001b[0;32m     24\u001b[0m     UnsatisfiableConstraint,\n\u001b[0;32m     25\u001b[0m )\n\u001b[0;32m     27\u001b[0m __all__ \u001b[38;5;241m=\u001b[39m [\n\u001b[0;32m     28\u001b[0m     \u001b[38;5;124m\"\u001b[39m\u001b[38;5;124mBadRequiredStrength\u001b[39m\u001b[38;5;124m\"\u001b[39m,\n\u001b[0;32m     29\u001b[0m     \u001b[38;5;124m\"\u001b[39m\u001b[38;5;124mDuplicateConstraint\u001b[39m\u001b[38;5;124m\"\u001b[39m,\n\u001b[1;32m   (...)\u001b[0m\n\u001b[0;32m     41\u001b[0m     \u001b[38;5;124m\"\u001b[39m\u001b[38;5;124m__kiwi_version__\u001b[39m\u001b[38;5;124m\"\u001b[39m,\n\u001b[0;32m     42\u001b[0m ]\n",
      "\u001b[1;31mImportError\u001b[0m: DLL load failed while importing _cext: The specified module could not be found."
     ]
    }
   ],
   "source": [
    "import numpy as np\n",
    "import pandas as pd\n",
    "import matplotlib.pyplot as plt\n",
    "import os"
   ]
  },
  {
   "cell_type": "code",
   "execution_count": 2,
   "id": "ae756138-f50b-4fb5-96f8-392408ac5c34",
   "metadata": {},
   "outputs": [],
   "source": [
    "movies = pd.read_csv('data/tmdb_5000_movies.csv')\n",
    "credits = pd.read_csv('data/tmdb_5000_credits.csv')"
   ]
  },
  {
   "cell_type": "code",
   "execution_count": 3,
   "id": "db975e26-bbb6-43f1-bd55-b96620f284a3",
   "metadata": {},
   "outputs": [],
   "source": [
    "movies = movies.merge(credits, on = 'title')"
   ]
  },
  {
   "cell_type": "code",
   "execution_count": 4,
   "id": "93f2ffe2-80d2-455b-b86f-441af752582d",
   "metadata": {},
   "outputs": [],
   "source": [
    "movies = movies[['movie_id', 'title', 'genres', 'keywords', 'cast', 'crew']]"
   ]
  },
  {
   "cell_type": "code",
   "execution_count": 5,
   "id": "96f21448-0c4f-4eab-b477-ae5b5180bd94",
   "metadata": {},
   "outputs": [],
   "source": [
    "import ast \n",
    "\n",
    "def convert(text):\n",
    "    l = []\n",
    "    for i in ast.literal_eval(text):\n",
    "        l.append(i['name'])\n",
    "    return l"
   ]
  },
  {
   "cell_type": "code",
   "execution_count": 6,
   "id": "e1fede40-ce2d-406f-b50b-daa967b200a8",
   "metadata": {},
   "outputs": [],
   "source": [
    "movies['genres'] = movies['genres'].apply(convert)"
   ]
  },
  {
   "cell_type": "code",
   "execution_count": 18,
   "id": "d06a8dc2-1a4f-40cb-915d-6e6429c36ab0",
   "metadata": {},
   "outputs": [
    {
     "data": {
      "text/html": [
       "<div>\n",
       "<style scoped>\n",
       "    .dataframe tbody tr th:only-of-type {\n",
       "        vertical-align: middle;\n",
       "    }\n",
       "\n",
       "    .dataframe tbody tr th {\n",
       "        vertical-align: top;\n",
       "    }\n",
       "\n",
       "    .dataframe thead th {\n",
       "        text-align: right;\n",
       "    }\n",
       "</style>\n",
       "<table border=\"1\" class=\"dataframe\">\n",
       "  <thead>\n",
       "    <tr style=\"text-align: right;\">\n",
       "      <th></th>\n",
       "      <th>movie_id</th>\n",
       "      <th>title</th>\n",
       "      <th>genres</th>\n",
       "      <th>keywords</th>\n",
       "      <th>cast</th>\n",
       "      <th>crew</th>\n",
       "    </tr>\n",
       "  </thead>\n",
       "  <tbody>\n",
       "    <tr>\n",
       "      <th>0</th>\n",
       "      <td>19995</td>\n",
       "      <td>Avatar</td>\n",
       "      <td>[Action, Adventure, Fantasy, ScienceFiction]</td>\n",
       "      <td>[cultureclash, future, spacewar, spacecolony, ...</td>\n",
       "      <td>[SamWorthington, ZoeSaldana, SigourneyWeaver]</td>\n",
       "      <td>[JamesCameron]</td>\n",
       "    </tr>\n",
       "  </tbody>\n",
       "</table>\n",
       "</div>"
      ],
      "text/plain": [
       "   movie_id   title                                        genres  \\\n",
       "0     19995  Avatar  [Action, Adventure, Fantasy, ScienceFiction]   \n",
       "\n",
       "                                            keywords  \\\n",
       "0  [cultureclash, future, spacewar, spacecolony, ...   \n",
       "\n",
       "                                            cast            crew  \n",
       "0  [SamWorthington, ZoeSaldana, SigourneyWeaver]  [JamesCameron]  "
      ]
     },
     "execution_count": 18,
     "metadata": {},
     "output_type": "execute_result"
    }
   ],
   "source": [
    "movies.head(1)"
   ]
  },
  {
   "cell_type": "code",
   "execution_count": 8,
   "id": "2728376d-d23b-4016-9cfc-fe0b929b4ad1",
   "metadata": {},
   "outputs": [],
   "source": [
    "movies['keywords'] = movies['keywords'].apply(convert)"
   ]
  },
  {
   "cell_type": "code",
   "execution_count": 10,
   "id": "6e8cce33-e2e6-443d-996e-35b86d7fedcf",
   "metadata": {},
   "outputs": [],
   "source": [
    "def convert_cast(text):\n",
    "    l = []\n",
    "    counter = 0\n",
    "    for i in ast.literal_eval(text):\n",
    "        if counter < 3:\n",
    "           l.append(i['name'])\n",
    "        counter +=1\n",
    "    return l"
   ]
  },
  {
   "cell_type": "code",
   "execution_count": 11,
   "id": "f29d8a1d-655b-4261-ab05-ecd1b36a3aa6",
   "metadata": {},
   "outputs": [],
   "source": [
    "movies['cast'] = movies['cast'].apply(convert_cast)"
   ]
  },
  {
   "cell_type": "code",
   "execution_count": 13,
   "id": "ee5f3fc1-bd2b-4bc1-90b0-2acfbf632445",
   "metadata": {},
   "outputs": [],
   "source": [
    "def fectch_director(text):\n",
    "    l = []\n",
    "    for i in ast.literal_eval(text):\n",
    "        if i['job'] == 'Director':\n",
    "            l.append(i['name'])\n",
    "            break\n",
    "    return l"
   ]
  },
  {
   "cell_type": "code",
   "execution_count": 14,
   "id": "e001e658-be53-4bea-8111-0540a21d29f0",
   "metadata": {},
   "outputs": [],
   "source": [
    "movies['crew'] = movies['crew'].apply(fectch_director)"
   ]
  },
  {
   "cell_type": "code",
   "execution_count": 16,
   "id": "ecdd5806-72a6-4fc0-8d70-9e8d7a99b9c6",
   "metadata": {},
   "outputs": [],
   "source": [
    "def remove_space(word):\n",
    "    l = []\n",
    "    for i in word:\n",
    "            l.append(i.replace(\" \", \"\"))\n",
    "    return l"
   ]
  },
  {
   "cell_type": "code",
   "execution_count": 17,
   "id": "28ad9115-7400-475c-af10-060d074cec4c",
   "metadata": {},
   "outputs": [],
   "source": [
    "movies['cast'] = movies['cast'].apply(remove_space)\n",
    "movies['crew'] = movies['crew'].apply(remove_space)\n",
    "movies['genres'] = movies['genres'].apply(remove_space)\n",
    "movies['keywords'] = movies['keywords'].apply(remove_space)"
   ]
  },
  {
   "cell_type": "code",
   "execution_count": 19,
   "id": "55eb1748-e0ac-4661-ab77-ee305273ca6b",
   "metadata": {},
   "outputs": [],
   "source": [
    "movies['tags'] = movies['genres'] + movies['keywords'] + movies['cast'] + movies['crew']"
   ]
  },
  {
   "cell_type": "code",
   "execution_count": 20,
   "id": "43bb5970-de1d-480a-b126-6291ae2a0298",
   "metadata": {},
   "outputs": [],
   "source": [
    "new_data = movies[['movie_id', 'title', 'tags']]"
   ]
  },
  {
   "cell_type": "code",
   "execution_count": 21,
   "id": "cbdf3ca5-f3a9-49f3-b15a-c8c6c638466c",
   "metadata": {},
   "outputs": [
    {
     "data": {
      "text/plain": [
       "(4809, 3)"
      ]
     },
     "execution_count": 21,
     "metadata": {},
     "output_type": "execute_result"
    }
   ],
   "source": [
    "new_data.shape"
   ]
  },
  {
   "cell_type": "code",
   "execution_count": 26,
   "id": "2afc1811-d5c2-4225-a646-d9c870e62c0c",
   "metadata": {},
   "outputs": [
    {
     "data": {
      "text/html": [
       "<div>\n",
       "<style scoped>\n",
       "    .dataframe tbody tr th:only-of-type {\n",
       "        vertical-align: middle;\n",
       "    }\n",
       "\n",
       "    .dataframe tbody tr th {\n",
       "        vertical-align: top;\n",
       "    }\n",
       "\n",
       "    .dataframe thead th {\n",
       "        text-align: right;\n",
       "    }\n",
       "</style>\n",
       "<table border=\"1\" class=\"dataframe\">\n",
       "  <thead>\n",
       "    <tr style=\"text-align: right;\">\n",
       "      <th></th>\n",
       "      <th>movie_id</th>\n",
       "      <th>title</th>\n",
       "      <th>tags</th>\n",
       "    </tr>\n",
       "  </thead>\n",
       "  <tbody>\n",
       "    <tr>\n",
       "      <th>0</th>\n",
       "      <td>19995</td>\n",
       "      <td>Avatar</td>\n",
       "      <td>action adventure fantasy sciencefiction cultur...</td>\n",
       "    </tr>\n",
       "  </tbody>\n",
       "</table>\n",
       "</div>"
      ],
      "text/plain": [
       "   movie_id   title                                               tags\n",
       "0     19995  Avatar  action adventure fantasy sciencefiction cultur..."
      ]
     },
     "execution_count": 26,
     "metadata": {},
     "output_type": "execute_result"
    }
   ],
   "source": [
    "new_data.head(1)"
   ]
  },
  {
   "cell_type": "code",
   "execution_count": 23,
   "id": "920f269e-54c7-4139-a45f-b0417cdbb733",
   "metadata": {},
   "outputs": [
    {
     "name": "stderr",
     "output_type": "stream",
     "text": [
      "C:\\Users\\RULoaner\\AppData\\Local\\Temp\\ipykernel_14784\\1366722170.py:1: SettingWithCopyWarning: \n",
      "A value is trying to be set on a copy of a slice from a DataFrame.\n",
      "Try using .loc[row_indexer,col_indexer] = value instead\n",
      "\n",
      "See the caveats in the documentation: https://pandas.pydata.org/pandas-docs/stable/user_guide/indexing.html#returning-a-view-versus-a-copy\n",
      "  new_data['tags'] = new_data['tags'].apply(lambda x: \" \".join(x))\n"
     ]
    }
   ],
   "source": [
    "new_data['tags'] = new_data['tags'].apply(lambda x: \" \".join(x))"
   ]
  },
  {
   "cell_type": "code",
   "execution_count": 25,
   "id": "dc07910e-9754-4ffd-8fad-b88723656d7b",
   "metadata": {},
   "outputs": [
    {
     "name": "stderr",
     "output_type": "stream",
     "text": [
      "C:\\Users\\RULoaner\\AppData\\Local\\Temp\\ipykernel_14784\\2492974546.py:1: SettingWithCopyWarning: \n",
      "A value is trying to be set on a copy of a slice from a DataFrame.\n",
      "Try using .loc[row_indexer,col_indexer] = value instead\n",
      "\n",
      "See the caveats in the documentation: https://pandas.pydata.org/pandas-docs/stable/user_guide/indexing.html#returning-a-view-versus-a-copy\n",
      "  new_data['tags'] = new_data['tags'].apply(lambda x:x.lower())\n"
     ]
    }
   ],
   "source": [
    "new_data['tags'] = new_data['tags'].apply(lambda x:x.lower())"
   ]
  },
  {
   "cell_type": "code",
   "execution_count": 27,
   "id": "48e898bf-affb-4864-98e4-247209c1416a",
   "metadata": {},
   "outputs": [],
   "source": [
    "import nltk\n",
    "from nltk.stem import PorterStemmer"
   ]
  },
  {
   "cell_type": "code",
   "execution_count": 28,
   "id": "2c9330d2-b422-4fef-9af4-761f94ccddb5",
   "metadata": {},
   "outputs": [],
   "source": [
    "ps = PorterStemmer()"
   ]
  },
  {
   "cell_type": "code",
   "execution_count": 29,
   "id": "9375768e-561e-48c6-b592-eb772204d8b8",
   "metadata": {},
   "outputs": [],
   "source": [
    "def steams(text): \n",
    "    l = []\n",
    "    for i in text.split():\n",
    "        l.append(ps.stem(i))\n",
    "\n",
    "    return \" \".join(l)"
   ]
  },
  {
   "cell_type": "code",
   "execution_count": 30,
   "id": "75051c2c-0bfa-4995-9e7f-057dbb0ca95f",
   "metadata": {},
   "outputs": [
    {
     "name": "stderr",
     "output_type": "stream",
     "text": [
      "C:\\Users\\RULoaner\\AppData\\Local\\Temp\\ipykernel_14784\\2412174396.py:1: SettingWithCopyWarning: \n",
      "A value is trying to be set on a copy of a slice from a DataFrame.\n",
      "Try using .loc[row_indexer,col_indexer] = value instead\n",
      "\n",
      "See the caveats in the documentation: https://pandas.pydata.org/pandas-docs/stable/user_guide/indexing.html#returning-a-view-versus-a-copy\n",
      "  new_data['tags'] = new_data['tags'].apply(steams)\n"
     ]
    }
   ],
   "source": [
    "new_data['tags'] = new_data['tags'].apply(steams)"
   ]
  },
  {
   "cell_type": "code",
   "execution_count": 31,
   "id": "7ae01fb6-8cc8-4b67-9490-7acba56670f5",
   "metadata": {},
   "outputs": [
    {
     "data": {
      "text/plain": [
       "'action adventur fantasi sciencefict cultureclash futur spacewar spacecoloni societi spacetravel futurist romanc space alien tribe alienplanet cgi marin soldier battl loveaffair antiwar powerrel mindandsoul 3d samworthington zoesaldana sigourneyweav jamescameron'"
      ]
     },
     "execution_count": 31,
     "metadata": {},
     "output_type": "execute_result"
    }
   ],
   "source": [
    "new_data.iloc[0]['tags']"
   ]
  },
  {
   "cell_type": "code",
   "execution_count": 33,
   "id": "9cd6bb40-edab-4cf3-8c7f-6fc856ad5f92",
   "metadata": {},
   "outputs": [],
   "source": [
    "from sklearn.feature_extraction.text import CountVectorizer\n",
    "cv = CountVectorizer(max_features=5000, stop_words= 'english')"
   ]
  },
  {
   "cell_type": "code",
   "execution_count": 34,
   "id": "4942d2b3-2e7a-41a3-b950-2be711869074",
   "metadata": {},
   "outputs": [],
   "source": [
    "vector = cv.fit_transform(new_data['tags']).toarray()"
   ]
  },
  {
   "cell_type": "code",
   "execution_count": 36,
   "id": "d74b0d7e-b47c-4c6e-87c5-d9849825527b",
   "metadata": {},
   "outputs": [
    {
     "data": {
      "text/plain": [
       "(4809, 5000)"
      ]
     },
     "execution_count": 36,
     "metadata": {},
     "output_type": "execute_result"
    }
   ],
   "source": [
    "vector.shape"
   ]
  },
  {
   "cell_type": "code",
   "execution_count": 37,
   "id": "05291c5f-f01c-458a-96e2-9f7f7635b301",
   "metadata": {},
   "outputs": [],
   "source": [
    "from sklearn.metrics.pairwise import cosine_similarity"
   ]
  },
  {
   "cell_type": "code",
   "execution_count": 38,
   "id": "9828a778-4c84-4754-8fa5-fa260dc040f8",
   "metadata": {},
   "outputs": [],
   "source": [
    "similary = cosine_similarity(vector)"
   ]
  },
  {
   "cell_type": "code",
   "execution_count": 40,
   "id": "e9ca97bb-ef64-4f9c-9475-d0d64da76727",
   "metadata": {},
   "outputs": [
    {
     "data": {
      "text/plain": [
       "(4809, 4809)"
      ]
     },
     "execution_count": 40,
     "metadata": {},
     "output_type": "execute_result"
    }
   ],
   "source": [
    "similary.shape"
   ]
  },
  {
   "cell_type": "code",
   "execution_count": 41,
   "id": "feed2a14-ab7c-4154-9f88-05fc3d31abd7",
   "metadata": {},
   "outputs": [
    {
     "data": {
      "text/plain": [
       "np.int64(159)"
      ]
     },
     "execution_count": 41,
     "metadata": {},
     "output_type": "execute_result"
    }
   ],
   "source": [
    "new_data[new_data['title'] == 'Spider-Man'].index[0]"
   ]
  },
  {
   "cell_type": "code",
   "execution_count": 49,
   "id": "571af2db-c84f-4b77-bc8b-10dc3ee7757a",
   "metadata": {},
   "outputs": [],
   "source": [
    "def recommend(movie):\n",
    "    index = new_data[new_data['title'] == movie].index[0]\n",
    "    distances = sorted(list(enumerate(similary[index])), reverse=True , key = lambda x:x[1])\n",
    "    for i in distances[1:6]:\n",
    "        print(new_data.iloc[i[0]].title)"
   ]
  },
  {
   "cell_type": "code",
   "execution_count": 52,
   "id": "54241d28-f59b-405e-b91f-03dcb895706f",
   "metadata": {},
   "outputs": [
    {
     "name": "stdout",
     "output_type": "stream",
     "text": [
      "The Dark Knight Rises\n",
      "Batman Begins\n",
      "Harsh Times\n",
      "Batman\n",
      "Batman Returns\n"
     ]
    }
   ],
   "source": [
    "recommend('The Dark Knight')"
   ]
  },
  {
   "cell_type": "code",
   "execution_count": 55,
   "id": "86dbf622-f491-477e-b5e4-22f3c49dd3b6",
   "metadata": {},
   "outputs": [],
   "source": [
    "import pickle \n",
    "\n",
    "pickle.dump(new_data, open('artificats/movie_list.pkl', 'wb'))\n",
    "pickle.dump(similary, open('artificats/similarity.pkl', 'wb'))"
   ]
  },
  {
   "cell_type": "code",
   "execution_count": null,
   "id": "8d87ba54-0ed3-4c59-8113-b38db406da81",
   "metadata": {},
   "outputs": [],
   "source": []
  }
 ],
 "metadata": {
  "kernelspec": {
   "display_name": "Python 3 (ipykernel)",
   "language": "python",
   "name": "python3"
  },
  "language_info": {
   "codemirror_mode": {
    "name": "ipython",
    "version": 3
   },
   "file_extension": ".py",
   "mimetype": "text/x-python",
   "name": "python",
   "nbconvert_exporter": "python",
   "pygments_lexer": "ipython3",
   "version": "3.12.4"
  }
 },
 "nbformat": 4,
 "nbformat_minor": 5
}
